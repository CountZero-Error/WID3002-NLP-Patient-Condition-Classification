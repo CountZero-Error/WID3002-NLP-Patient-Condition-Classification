{
 "cells": [
  {
   "cell_type": "markdown",
   "metadata": {},
   "source": [
    "# NLP Preprocessing Pipeline"
   ]
  },
  {
   "cell_type": "code",
   "execution_count": 15,
   "metadata": {},
   "outputs": [
    {
     "name": "stderr",
     "output_type": "stream",
     "text": [
      "[nltk_data] Downloading package punkt to /Users/countzero/nltk_data...\n",
      "[nltk_data]   Package punkt is already up-to-date!\n",
      "[nltk_data] Downloading package stopwords to\n",
      "[nltk_data]     /Users/countzero/nltk_data...\n",
      "[nltk_data]   Package stopwords is already up-to-date!\n"
     ]
    }
   ],
   "source": [
    "# nltk\n",
    "import nltk\n",
    "from nltk.corpus import stopwords\n",
    "from nltk.stem import PorterStemmer\n",
    "from nltk.tokenize import word_tokenize\n",
    "\n",
    "# nltk download\n",
    "nltk.download('punkt') # token\n",
    "nltk.download('stopwords')\n",
    "\n",
    "import pandas as pd\n",
    "import spacy\n",
    "import re\n",
    "import os"
   ]
  },
  {
   "cell_type": "code",
   "execution_count": 2,
   "metadata": {},
   "outputs": [],
   "source": [
    "# Methods\n",
    "def quick_view(lst, num):\n",
    "    print(f'[*] Quick view(total {num}):')\n",
    "    for i in range(10):\n",
    "        print(f'\\t{i + 1}.{lst[i]}')"
   ]
  },
  {
   "cell_type": "markdown",
   "metadata": {},
   "source": [
    "### Data"
   ]
  },
  {
   "cell_type": "code",
   "execution_count": 3,
   "metadata": {},
   "outputs": [
    {
     "data": {
      "text/html": [
       "<div>\n",
       "<style scoped>\n",
       "    .dataframe tbody tr th:only-of-type {\n",
       "        vertical-align: middle;\n",
       "    }\n",
       "\n",
       "    .dataframe tbody tr th {\n",
       "        vertical-align: top;\n",
       "    }\n",
       "\n",
       "    .dataframe thead th {\n",
       "        text-align: right;\n",
       "    }\n",
       "</style>\n",
       "<table border=\"1\" class=\"dataframe\">\n",
       "  <thead>\n",
       "    <tr style=\"text-align: right;\">\n",
       "      <th></th>\n",
       "      <th>uniqueID</th>\n",
       "      <th>drugName</th>\n",
       "      <th>condition</th>\n",
       "      <th>review</th>\n",
       "      <th>rating</th>\n",
       "      <th>date</th>\n",
       "      <th>usefulCount</th>\n",
       "    </tr>\n",
       "  </thead>\n",
       "  <tbody>\n",
       "    <tr>\n",
       "      <th>0</th>\n",
       "      <td>206461</td>\n",
       "      <td>Valsartan</td>\n",
       "      <td>Left Ventricular Dysfunction</td>\n",
       "      <td>\"It has no side effect, I take it in combinati...</td>\n",
       "      <td>9</td>\n",
       "      <td>20-May-12</td>\n",
       "      <td>27</td>\n",
       "    </tr>\n",
       "    <tr>\n",
       "      <th>1</th>\n",
       "      <td>95260</td>\n",
       "      <td>Guanfacine</td>\n",
       "      <td>ADHD</td>\n",
       "      <td>\"My son is halfway through his fourth week of ...</td>\n",
       "      <td>8</td>\n",
       "      <td>27-Apr-10</td>\n",
       "      <td>192</td>\n",
       "    </tr>\n",
       "    <tr>\n",
       "      <th>2</th>\n",
       "      <td>92703</td>\n",
       "      <td>Lybrel</td>\n",
       "      <td>Birth Control</td>\n",
       "      <td>\"I used to take another oral contraceptive, wh...</td>\n",
       "      <td>5</td>\n",
       "      <td>14-Dec-09</td>\n",
       "      <td>17</td>\n",
       "    </tr>\n",
       "    <tr>\n",
       "      <th>3</th>\n",
       "      <td>138000</td>\n",
       "      <td>Ortho Evra</td>\n",
       "      <td>Birth Control</td>\n",
       "      <td>\"This is my first time using any form of birth...</td>\n",
       "      <td>8</td>\n",
       "      <td>3-Nov-15</td>\n",
       "      <td>10</td>\n",
       "    </tr>\n",
       "    <tr>\n",
       "      <th>4</th>\n",
       "      <td>35696</td>\n",
       "      <td>Buprenorphine / naloxone</td>\n",
       "      <td>Opiate Dependence</td>\n",
       "      <td>\"Suboxone has completely turned my life around...</td>\n",
       "      <td>9</td>\n",
       "      <td>27-Nov-16</td>\n",
       "      <td>37</td>\n",
       "    </tr>\n",
       "    <tr>\n",
       "      <th>...</th>\n",
       "      <td>...</td>\n",
       "      <td>...</td>\n",
       "      <td>...</td>\n",
       "      <td>...</td>\n",
       "      <td>...</td>\n",
       "      <td>...</td>\n",
       "      <td>...</td>\n",
       "    </tr>\n",
       "    <tr>\n",
       "      <th>161292</th>\n",
       "      <td>191035</td>\n",
       "      <td>Campral</td>\n",
       "      <td>Alcohol Dependence</td>\n",
       "      <td>\"I wrote my first report in Mid-October of 201...</td>\n",
       "      <td>10</td>\n",
       "      <td>31-May-15</td>\n",
       "      <td>125</td>\n",
       "    </tr>\n",
       "    <tr>\n",
       "      <th>161293</th>\n",
       "      <td>127085</td>\n",
       "      <td>Metoclopramide</td>\n",
       "      <td>Nausea/Vomiting</td>\n",
       "      <td>\"I was given this in IV before surgey. I immed...</td>\n",
       "      <td>1</td>\n",
       "      <td>1-Nov-11</td>\n",
       "      <td>34</td>\n",
       "    </tr>\n",
       "    <tr>\n",
       "      <th>161294</th>\n",
       "      <td>187382</td>\n",
       "      <td>Orencia</td>\n",
       "      <td>Rheumatoid Arthritis</td>\n",
       "      <td>\"Limited improvement after 4 months, developed...</td>\n",
       "      <td>2</td>\n",
       "      <td>15-Mar-14</td>\n",
       "      <td>35</td>\n",
       "    </tr>\n",
       "    <tr>\n",
       "      <th>161295</th>\n",
       "      <td>47128</td>\n",
       "      <td>Thyroid desiccated</td>\n",
       "      <td>Underactive Thyroid</td>\n",
       "      <td>\"I&amp;#039;ve been on thyroid medication 49 years...</td>\n",
       "      <td>10</td>\n",
       "      <td>19-Sep-15</td>\n",
       "      <td>79</td>\n",
       "    </tr>\n",
       "    <tr>\n",
       "      <th>161296</th>\n",
       "      <td>215220</td>\n",
       "      <td>Lubiprostone</td>\n",
       "      <td>Constipation, Chronic</td>\n",
       "      <td>\"I&amp;#039;ve had chronic constipation all my adu...</td>\n",
       "      <td>9</td>\n",
       "      <td>13-Dec-14</td>\n",
       "      <td>116</td>\n",
       "    </tr>\n",
       "  </tbody>\n",
       "</table>\n",
       "<p>161297 rows × 7 columns</p>\n",
       "</div>"
      ],
      "text/plain": [
       "        uniqueID                  drugName                     condition  \\\n",
       "0         206461                 Valsartan  Left Ventricular Dysfunction   \n",
       "1          95260                Guanfacine                          ADHD   \n",
       "2          92703                    Lybrel                 Birth Control   \n",
       "3         138000                Ortho Evra                 Birth Control   \n",
       "4          35696  Buprenorphine / naloxone             Opiate Dependence   \n",
       "...          ...                       ...                           ...   \n",
       "161292    191035                   Campral            Alcohol Dependence   \n",
       "161293    127085            Metoclopramide               Nausea/Vomiting   \n",
       "161294    187382                   Orencia          Rheumatoid Arthritis   \n",
       "161295     47128        Thyroid desiccated           Underactive Thyroid   \n",
       "161296    215220              Lubiprostone         Constipation, Chronic   \n",
       "\n",
       "                                                   review  rating       date  \\\n",
       "0       \"It has no side effect, I take it in combinati...       9  20-May-12   \n",
       "1       \"My son is halfway through his fourth week of ...       8  27-Apr-10   \n",
       "2       \"I used to take another oral contraceptive, wh...       5  14-Dec-09   \n",
       "3       \"This is my first time using any form of birth...       8   3-Nov-15   \n",
       "4       \"Suboxone has completely turned my life around...       9  27-Nov-16   \n",
       "...                                                   ...     ...        ...   \n",
       "161292  \"I wrote my first report in Mid-October of 201...      10  31-May-15   \n",
       "161293  \"I was given this in IV before surgey. I immed...       1   1-Nov-11   \n",
       "161294  \"Limited improvement after 4 months, developed...       2  15-Mar-14   \n",
       "161295  \"I&#039;ve been on thyroid medication 49 years...      10  19-Sep-15   \n",
       "161296  \"I&#039;ve had chronic constipation all my adu...       9  13-Dec-14   \n",
       "\n",
       "        usefulCount  \n",
       "0                27  \n",
       "1               192  \n",
       "2                17  \n",
       "3                10  \n",
       "4                37  \n",
       "...             ...  \n",
       "161292          125  \n",
       "161293           34  \n",
       "161294           35  \n",
       "161295           79  \n",
       "161296          116  \n",
       "\n",
       "[161297 rows x 7 columns]"
      ]
     },
     "execution_count": 3,
     "metadata": {},
     "output_type": "execute_result"
    }
   ],
   "source": [
    "# Input data\n",
    "fi = 'drugsComTrain_raw.csv'\n",
    "df = pd.read_csv(fi)\n",
    "df"
   ]
  },
  {
   "cell_type": "code",
   "execution_count": 4,
   "metadata": {},
   "outputs": [
    {
     "name": "stdout",
     "output_type": "stream",
     "text": [
      "<class 'pandas.core.frame.DataFrame'>\n",
      "Index: 160398 entries, 0 to 161296\n",
      "Data columns (total 7 columns):\n",
      " #   Column       Non-Null Count   Dtype \n",
      "---  ------       --------------   ----- \n",
      " 0   uniqueID     160398 non-null  int64 \n",
      " 1   drugName     160398 non-null  object\n",
      " 2   condition    160398 non-null  object\n",
      " 3   review       160398 non-null  object\n",
      " 4   rating       160398 non-null  int64 \n",
      " 5   date         160398 non-null  object\n",
      " 6   usefulCount  160398 non-null  int64 \n",
      "dtypes: int64(3), object(4)\n",
      "memory usage: 9.8+ MB\n"
     ]
    }
   ],
   "source": [
    "# Drop all na\n",
    "df.dropna(inplace=True)\n",
    "df.info()"
   ]
  },
  {
   "cell_type": "markdown",
   "metadata": {},
   "source": [
    "## 1. Text"
   ]
  },
  {
   "cell_type": "markdown",
   "metadata": {},
   "source": [
    "### 1.1. Text Lowercasing"
   ]
  },
  {
   "cell_type": "code",
   "execution_count": 5,
   "metadata": {},
   "outputs": [
    {
     "name": "stdout",
     "output_type": "stream",
     "text": [
      "[*] int64 - uniqueID: PASS\n",
      "[*] Lowercasing drugName...\n",
      "[*] Lowercasing condition...\n",
      "[*] Lowercasing review...\n",
      "[*] int64 - rating: PASS\n",
      "[*] Lowercasing date...\n",
      "[*] int64 - usefulCount: PASS\n"
     ]
    }
   ],
   "source": [
    "# Lowercasing text\n",
    "for column in df.columns:\n",
    "    if df[column].dtype == 'object':\n",
    "        print(f'[*] Lowercasing {column}...')\n",
    "        df[column] = df[column].str.lower()\n",
    "    \n",
    "    else:\n",
    "        print(f'[*] {df[column].dtype} - {column}: PASS')"
   ]
  },
  {
   "cell_type": "markdown",
   "metadata": {},
   "source": [
    "### 1.2. Noise Removal"
   ]
  },
  {
   "cell_type": "code",
   "execution_count": 6,
   "metadata": {},
   "outputs": [
    {
     "name": "stdout",
     "output_type": "stream",
     "text": [
      "[*] Progress: 100.6%\n",
      "[*] Done.\n",
      "[*] Quick view(total 160398):\n",
      "\t1. it has no side effect  i take it in combination of bystolic 5 mg and fish oil \n",
      "\t2. my son is halfway through his fourth week of intuniv  we became concerned when he began this last week  when he started taking the highest dose he will be on  for two days  he could hardly get out of bed  was very cranky  and slept for nearly 8 hours on a drive home from school vacation  very unusual for him   i called his doctor on monday morning and she said to stick it out a few days  see how he did at school  and with getting up in the morning  the last two days have been problem free  he is much more agreeable than ever  he is less emotional  a good thing   less cranky  he is remembering all the things he should  overall his behavior is better  \n",
      "we have tried many different medications and so far this is the most effective  \n",
      "\t3. i used to take another oral contraceptive  which had 21 pill cycle  and was very happy  very light periods  max 5 days  no other side effects  but it contained hormone gestodene  which is not available in us  so i switched to lybrel  because the ingredients are similar  when my other pills ended  i started lybrel immediately  on my first day of period  as the instructions said  and the period lasted for two weeks  when taking the second pack  same two weeks  and now  with third pack things got even worse  my third period lasted for two weeks and now it  039 s the end of the third week  i still have daily brown discharge \n",
      "the positive side is that i didn  039 t have any other side effects  the idea of being period free was so tempting    alas  \n",
      "\t4. this is my first time using any form of birth control  i  039 m glad i went with the patch  i have been on it for 8 months  at first it decreased my libido but that subsided  the only downside is that it made my periods longer  5 6 days to be exact  i used to only have periods for 3 4 days max also made my cramps intense for the first two days of my period  i never had cramps before using birth control  other than that in happy with the patch \n",
      "\t5. suboxone has completely turned my life around   i feel healthier  i  039 m excelling at my job and i always have money in my pocket and my savings account   i had none of those before suboxone and spent years abusing oxycontin   my paycheck was already spent by the time i got it and i started resorting to scheming and stealing to fund my addiction   all that is history   if you  039 re ready to stop  there  039 s a good chance that suboxone will put you on the path of great life again   i have found the side effects to be minimal compared to oxycontin   i  039 m actually sleeping better    slight constipation is about it for me   it truly is amazing  the cost pales in comparison to what i spent on oxycontin  \n",
      "\t6. 2nd day on 5mg started to work with rock hard erections however experianced headache  lower bowel preassure  3rd day erections would wake me up  amp  hurt  leg ankles aches   severe lower bowel preassure like you need to go  2 but can  039 t  enjoyed the initial rockhard erections but not at these side effects or  230 for months supply  i  039 m 50  amp  work out 3xs a week  not worth side effects  \n",
      "\t7. he pulled out  but he cummed a bit in me  i took the plan b 26 hours later  and took a pregnancy test two weeks later     i  039 m pregnant  \n",
      "\t8. abilify changed my life  there is hope  i was on zoloft and clonidine when i first started abilify at the age of 15   zoloft for depression and clondine to manage my complete rage  my moods were out of control  i was depressed and hopeless one second and then mean  irrational  and full of rage the next  my dr  prescribed me 2mg of abilify and from that point on i feel like i have been cured though i know i  039 m not   bi polar disorder is a constant battle  i know abilify works for me because i have tried to get off it and lost complete control over my emotions  went back on it and i was golden again   i am on 5mg 2x daily  i am now 21 and better than i have ever been in the past  only side effect is i like to eat a lot  \n",
      "\t9.  i ve had  nothing but problems with the keppera   constant shaking in my arms  amp  legs  amp  pins  amp  needles feeling in my arms  amp  legs severe light headedness no appetite  amp  etc  \n",
      "\t10. i had been on the pill for many years  when my doctor changed my rx to chateal  it was as effective  it really did help me by completely clearing my acne  this takes about 6 months though  i did not gain extra weight  or develop any emotional health issues  i stopped taking it bc i started using a more natural method of birth control  but started to take it bc i hate that my acne came back at age 28  i really hope symptoms like depression  or weight gain do not begin to affect me as i am older now  i  039 m also naturally moody  so this may worsen things  i was in a negative mental rut today  also i hope this doesn  039 t push me over the edge  as i believe i am depressed  hopefully it  039 ll be just like when i was younger  \n"
     ]
    }
   ],
   "source": [
    "# Remove everything except alphabetic and number\n",
    "# Output: clean_texts -> list()\n",
    "pattern = re.compile(r'[^a-zA-Z0-9\\s]')\n",
    "\n",
    "clean_texts = []\n",
    "for i in df.index:\n",
    "    print(f'\\r[*] Progress: {round(round((i + 1)/df.shape[0], 3)*100, 2)}%', end='')\n",
    "    clean_text = re.sub(pattern, ' ', df.loc[i, 'review'])\n",
    "    clean_texts.append(clean_text)\n",
    "\n",
    "clean_texts_num = len(clean_texts)\n",
    "print('\\n[*] Done.')\n",
    "quick_view(clean_texts, clean_texts_num)"
   ]
  },
  {
   "cell_type": "markdown",
   "metadata": {},
   "source": [
    "### 1.3. Stopwords Removal"
   ]
  },
  {
   "cell_type": "code",
   "execution_count": 7,
   "metadata": {},
   "outputs": [
    {
     "name": "stdout",
     "output_type": "stream",
     "text": [
      "[*] Progress: 100.0%\n",
      "[*] Done.\n",
      "[*] Quick view(total 160398):\n",
      "\t1. side effect  take combination bystolic 5 mg fish oil \n",
      "\t2. son halfway fourth week intuniv  became concerned began last week  started taking highest dose  two days  could hardly get bed  cranky  slept nearly 8 hours drive home school vacation  unusual   called doctor monday morning said stick days  see school  getting morning  last two days problem free  much agreeable ever  less emotional  good thing   less cranky  remembering things  overall behavior better  \n",
      "we tried many different medications far effective  \n",
      "\t3. used take another oral contraceptive  21 pill cycle  happy  light periods  max 5 days  side effects  contained hormone gestodene  available us  switched lybrel  ingredients similar  pills ended  started lybrel immediately  first day period  instructions said  period lasted two weeks  taking second pack  two weeks   third pack things got even worse  third period lasted two weeks  039 end third week  still daily brown discharge \n",
      "the positive side  039 side effects  idea period free tempting    alas  \n",
      "\t4. first time using form birth control   039 glad went patch  8 months  first decreased libido subsided  downside made periods longer  5 6 days exact  used periods 3 4 days max also made cramps intense first two days period  never cramps using birth control  happy patch \n",
      "\t5. suboxone completely turned life around   feel healthier   039 excelling job always money pocket savings account   none suboxone spent years abusing oxycontin   paycheck already spent time got started resorting scheming stealing fund addiction   history    039 ready stop   039 good chance suboxone put path great life   found side effects minimal compared oxycontin    039 actually sleeping better    slight constipation   truly amazing  cost pales comparison spent oxycontin  \n",
      "\t6. 2nd day 5mg started work rock hard erections however experianced headache  lower bowel preassure  3rd day erections would wake  amp  hurt  leg ankles aches   severe lower bowel preassure like need go  2  039  enjoyed initial rockhard erections side effects  230 months supply   039 50  amp  work 3xs week  worth side effects  \n",
      "\t7. pulled  cummed bit  took plan b 26 hours later  took pregnancy test two weeks later      039 pregnant  \n",
      "\t8. abilify changed life  hope  zoloft clonidine first started abilify age 15   zoloft depression clondine manage complete rage  moods control  depressed hopeless one second mean  irrational  full rage next  dr  prescribed 2mg abilify point feel like cured though know  039   bi polar disorder constant battle  know abilify works tried get lost complete control emotions  went back golden   5mg 2x daily  21 better ever past  side effect like eat lot  \n",
      "\t9.   nothing problems keppera   constant shaking arms  amp  legs  amp  pins  amp  needles feeling arms  amp  legs severe light headedness appetite  amp  etc  \n",
      "\t10. pill many years  doctor changed rx chateal  effective  really help completely clearing acne  takes 6 months though  gain extra weight  develop emotional health issues  stopped taking bc started using natural method birth control  started take bc hate acne came back age 28  really hope symptoms like depression  weight gain begin affect older   039 also naturally moody  may worsen things  negative mental rut today  also hope  039 push edge  believe depressed  hopefully  039 like younger  \n"
     ]
    }
   ],
   "source": [
    "# Remove stopwords from clean_texts base on nltk library\n",
    "# Output: clean_texts -> list()\n",
    "stop_wds = stopwords.words('english')\n",
    "\n",
    "tmp = []\n",
    "for i in range(clean_texts_num):\n",
    "    print(f'\\r[*] Progress: {round(round((i + 1)/clean_texts_num, 3)*100, 2)}%', end='')\n",
    "    clean_text = ' '.join([wd for wd in clean_texts[i].split(' ') if wd not in stop_wds])\n",
    "    tmp.append(clean_text)\n",
    "\n",
    "clean_texts = tmp[:]\n",
    "tmp = []\n",
    "\n",
    "clean_texts_num = len(clean_texts)\n",
    "print('\\n[*] Done.')\n",
    "print(f'[*] Quick view(total {clean_texts_num}):')\n",
    "for i in range(10):\n",
    "    print(f'\\t{i + 1}.{clean_texts[i]}')"
   ]
  },
  {
   "cell_type": "markdown",
   "metadata": {},
   "source": [
    "### 1.4. Entity Recognition"
   ]
  },
  {
   "cell_type": "code",
   "execution_count": 21,
   "metadata": {},
   "outputs": [
    {
     "name": "stdout",
     "output_type": "stream",
     "text": [
      "[*] Progress: 69.4%"
     ]
    },
    {
     "ename": "KeyboardInterrupt",
     "evalue": "",
     "output_type": "error",
     "traceback": [
      "\u001b[0;31m---------------------------------------------------------------------------\u001b[0m",
      "\u001b[0;31mKeyboardInterrupt\u001b[0m                         Traceback (most recent call last)",
      "Cell \u001b[0;32mIn[21], line 8\u001b[0m\n\u001b[1;32m      6\u001b[0m \u001b[38;5;28;01mfor\u001b[39;00m i \u001b[38;5;129;01min\u001b[39;00m \u001b[38;5;28mrange\u001b[39m(clean_texts_num):\n\u001b[1;32m      7\u001b[0m     \u001b[38;5;28mprint\u001b[39m(\u001b[38;5;124mf\u001b[39m\u001b[38;5;124m'\u001b[39m\u001b[38;5;130;01m\\r\u001b[39;00m\u001b[38;5;124m[*] Progress: \u001b[39m\u001b[38;5;132;01m{\u001b[39;00m\u001b[38;5;28mround\u001b[39m(\u001b[38;5;28mround\u001b[39m((i\u001b[38;5;250m \u001b[39m\u001b[38;5;241m+\u001b[39m\u001b[38;5;250m \u001b[39m\u001b[38;5;241m1\u001b[39m)\u001b[38;5;241m/\u001b[39mclean_texts_num,\u001b[38;5;250m \u001b[39m\u001b[38;5;241m3\u001b[39m)\u001b[38;5;241m*\u001b[39m\u001b[38;5;241m100\u001b[39m,\u001b[38;5;250m \u001b[39m\u001b[38;5;241m2\u001b[39m)\u001b[38;5;132;01m}\u001b[39;00m\u001b[38;5;124m%\u001b[39m\u001b[38;5;124m'\u001b[39m, end\u001b[38;5;241m=\u001b[39m\u001b[38;5;124m'\u001b[39m\u001b[38;5;124m'\u001b[39m)\n\u001b[0;32m----> 8\u001b[0m     doc \u001b[38;5;241m=\u001b[39m recognition(clean_texts[i])\n\u001b[1;32m      9\u001b[0m     \u001b[38;5;28;01mfor\u001b[39;00m ent \u001b[38;5;129;01min\u001b[39;00m doc\u001b[38;5;241m.\u001b[39ments:\n\u001b[1;32m     10\u001b[0m         entities_catalog\u001b[38;5;241m.\u001b[39msetdefault(ent\u001b[38;5;241m.\u001b[39mlabel_, [])\n",
      "File \u001b[0;32m/opt/anaconda3/lib/python3.12/site-packages/spacy/language.py:1049\u001b[0m, in \u001b[0;36mLanguage.__call__\u001b[0;34m(self, text, disable, component_cfg)\u001b[0m\n\u001b[1;32m   1047\u001b[0m     error_handler \u001b[38;5;241m=\u001b[39m proc\u001b[38;5;241m.\u001b[39mget_error_handler()\n\u001b[1;32m   1048\u001b[0m \u001b[38;5;28;01mtry\u001b[39;00m:\n\u001b[0;32m-> 1049\u001b[0m     doc \u001b[38;5;241m=\u001b[39m proc(doc, \u001b[38;5;241m*\u001b[39m\u001b[38;5;241m*\u001b[39mcomponent_cfg\u001b[38;5;241m.\u001b[39mget(name, {}))  \u001b[38;5;66;03m# type: ignore[call-arg]\u001b[39;00m\n\u001b[1;32m   1050\u001b[0m \u001b[38;5;28;01mexcept\u001b[39;00m \u001b[38;5;167;01mKeyError\u001b[39;00m \u001b[38;5;28;01mas\u001b[39;00m e:\n\u001b[1;32m   1051\u001b[0m     \u001b[38;5;66;03m# This typically happens if a component is not initialized\u001b[39;00m\n\u001b[1;32m   1052\u001b[0m     \u001b[38;5;28;01mraise\u001b[39;00m \u001b[38;5;167;01mValueError\u001b[39;00m(Errors\u001b[38;5;241m.\u001b[39mE109\u001b[38;5;241m.\u001b[39mformat(name\u001b[38;5;241m=\u001b[39mname)) \u001b[38;5;28;01mfrom\u001b[39;00m \u001b[38;5;21;01me\u001b[39;00m\n",
      "File \u001b[0;32m/opt/anaconda3/lib/python3.12/site-packages/spacy/pipeline/trainable_pipe.pyx:52\u001b[0m, in \u001b[0;36mspacy.pipeline.trainable_pipe.TrainablePipe.__call__\u001b[0;34m()\u001b[0m\n",
      "File \u001b[0;32m/opt/anaconda3/lib/python3.12/site-packages/spacy/pipeline/tok2vec.py:126\u001b[0m, in \u001b[0;36mTok2Vec.predict\u001b[0;34m(self, docs)\u001b[0m\n\u001b[1;32m    124\u001b[0m     width \u001b[38;5;241m=\u001b[39m \u001b[38;5;28mself\u001b[39m\u001b[38;5;241m.\u001b[39mmodel\u001b[38;5;241m.\u001b[39mget_dim(\u001b[38;5;124m\"\u001b[39m\u001b[38;5;124mnO\u001b[39m\u001b[38;5;124m\"\u001b[39m)\n\u001b[1;32m    125\u001b[0m     \u001b[38;5;28;01mreturn\u001b[39;00m [\u001b[38;5;28mself\u001b[39m\u001b[38;5;241m.\u001b[39mmodel\u001b[38;5;241m.\u001b[39mops\u001b[38;5;241m.\u001b[39malloc((\u001b[38;5;241m0\u001b[39m, width)) \u001b[38;5;28;01mfor\u001b[39;00m doc \u001b[38;5;129;01min\u001b[39;00m docs]\n\u001b[0;32m--> 126\u001b[0m tokvecs \u001b[38;5;241m=\u001b[39m \u001b[38;5;28mself\u001b[39m\u001b[38;5;241m.\u001b[39mmodel\u001b[38;5;241m.\u001b[39mpredict(docs)\n\u001b[1;32m    127\u001b[0m \u001b[38;5;28;01mreturn\u001b[39;00m tokvecs\n",
      "File \u001b[0;32m/opt/anaconda3/lib/python3.12/site-packages/thinc/model.py:334\u001b[0m, in \u001b[0;36mModel.predict\u001b[0;34m(self, X)\u001b[0m\n\u001b[1;32m    330\u001b[0m \u001b[38;5;28;01mdef\u001b[39;00m \u001b[38;5;21mpredict\u001b[39m(\u001b[38;5;28mself\u001b[39m, X: InT) \u001b[38;5;241m-\u001b[39m\u001b[38;5;241m>\u001b[39m OutT:\n\u001b[1;32m    331\u001b[0m \u001b[38;5;250m    \u001b[39m\u001b[38;5;124;03m\"\"\"Call the model's `forward` function with `is_train=False`, and return\u001b[39;00m\n\u001b[1;32m    332\u001b[0m \u001b[38;5;124;03m    only the output, instead of the `(output, callback)` tuple.\u001b[39;00m\n\u001b[1;32m    333\u001b[0m \u001b[38;5;124;03m    \"\"\"\u001b[39;00m\n\u001b[0;32m--> 334\u001b[0m     \u001b[38;5;28;01mreturn\u001b[39;00m \u001b[38;5;28mself\u001b[39m\u001b[38;5;241m.\u001b[39m_func(\u001b[38;5;28mself\u001b[39m, X, is_train\u001b[38;5;241m=\u001b[39m\u001b[38;5;28;01mFalse\u001b[39;00m)[\u001b[38;5;241m0\u001b[39m]\n",
      "File \u001b[0;32m/opt/anaconda3/lib/python3.12/site-packages/thinc/layers/chain.py:54\u001b[0m, in \u001b[0;36mforward\u001b[0;34m(model, X, is_train)\u001b[0m\n\u001b[1;32m     52\u001b[0m callbacks \u001b[38;5;241m=\u001b[39m []\n\u001b[1;32m     53\u001b[0m \u001b[38;5;28;01mfor\u001b[39;00m layer \u001b[38;5;129;01min\u001b[39;00m model\u001b[38;5;241m.\u001b[39mlayers:\n\u001b[0;32m---> 54\u001b[0m     Y, inc_layer_grad \u001b[38;5;241m=\u001b[39m layer(X, is_train\u001b[38;5;241m=\u001b[39mis_train)\n\u001b[1;32m     55\u001b[0m     callbacks\u001b[38;5;241m.\u001b[39mappend(inc_layer_grad)\n\u001b[1;32m     56\u001b[0m     X \u001b[38;5;241m=\u001b[39m Y\n",
      "File \u001b[0;32m/opt/anaconda3/lib/python3.12/site-packages/thinc/model.py:310\u001b[0m, in \u001b[0;36mModel.__call__\u001b[0;34m(self, X, is_train)\u001b[0m\n\u001b[1;32m    307\u001b[0m \u001b[38;5;28;01mdef\u001b[39;00m \u001b[38;5;21m__call__\u001b[39m(\u001b[38;5;28mself\u001b[39m, X: InT, is_train: \u001b[38;5;28mbool\u001b[39m) \u001b[38;5;241m-\u001b[39m\u001b[38;5;241m>\u001b[39m Tuple[OutT, Callable]:\n\u001b[1;32m    308\u001b[0m \u001b[38;5;250m    \u001b[39m\u001b[38;5;124;03m\"\"\"Call the model's `forward` function, returning the output and a\u001b[39;00m\n\u001b[1;32m    309\u001b[0m \u001b[38;5;124;03m    callback to compute the gradients via backpropagation.\"\"\"\u001b[39;00m\n\u001b[0;32m--> 310\u001b[0m     \u001b[38;5;28;01mreturn\u001b[39;00m \u001b[38;5;28mself\u001b[39m\u001b[38;5;241m.\u001b[39m_func(\u001b[38;5;28mself\u001b[39m, X, is_train\u001b[38;5;241m=\u001b[39mis_train)\n",
      "File \u001b[0;32m/opt/anaconda3/lib/python3.12/site-packages/thinc/layers/with_array.py:42\u001b[0m, in \u001b[0;36mforward\u001b[0;34m(model, Xseq, is_train)\u001b[0m\n\u001b[1;32m     40\u001b[0m     \u001b[38;5;28;01mreturn\u001b[39;00m model\u001b[38;5;241m.\u001b[39mlayers[\u001b[38;5;241m0\u001b[39m](Xseq, is_train)\n\u001b[1;32m     41\u001b[0m \u001b[38;5;28;01melse\u001b[39;00m:\n\u001b[0;32m---> 42\u001b[0m     \u001b[38;5;28;01mreturn\u001b[39;00m cast(Tuple[SeqT, Callable], _list_forward(model, Xseq, is_train))\n",
      "File \u001b[0;32m/opt/anaconda3/lib/python3.12/site-packages/thinc/layers/with_array.py:77\u001b[0m, in \u001b[0;36m_list_forward\u001b[0;34m(model, Xs, is_train)\u001b[0m\n\u001b[1;32m     75\u001b[0m lengths \u001b[38;5;241m=\u001b[39m NUMPY_OPS\u001b[38;5;241m.\u001b[39masarray1i([\u001b[38;5;28mlen\u001b[39m(seq) \u001b[38;5;28;01mfor\u001b[39;00m seq \u001b[38;5;129;01min\u001b[39;00m Xs])\n\u001b[1;32m     76\u001b[0m Xf \u001b[38;5;241m=\u001b[39m layer\u001b[38;5;241m.\u001b[39mops\u001b[38;5;241m.\u001b[39mflatten(Xs, pad\u001b[38;5;241m=\u001b[39mpad)\n\u001b[0;32m---> 77\u001b[0m Yf, get_dXf \u001b[38;5;241m=\u001b[39m layer(Xf, is_train)\n\u001b[1;32m     79\u001b[0m \u001b[38;5;28;01mdef\u001b[39;00m \u001b[38;5;21mbackprop\u001b[39m(dYs: ListXd) \u001b[38;5;241m-\u001b[39m\u001b[38;5;241m>\u001b[39m ListXd:\n\u001b[1;32m     80\u001b[0m     dYf \u001b[38;5;241m=\u001b[39m layer\u001b[38;5;241m.\u001b[39mops\u001b[38;5;241m.\u001b[39mflatten(dYs, pad\u001b[38;5;241m=\u001b[39mpad)\n",
      "File \u001b[0;32m/opt/anaconda3/lib/python3.12/site-packages/thinc/model.py:310\u001b[0m, in \u001b[0;36mModel.__call__\u001b[0;34m(self, X, is_train)\u001b[0m\n\u001b[1;32m    307\u001b[0m \u001b[38;5;28;01mdef\u001b[39;00m \u001b[38;5;21m__call__\u001b[39m(\u001b[38;5;28mself\u001b[39m, X: InT, is_train: \u001b[38;5;28mbool\u001b[39m) \u001b[38;5;241m-\u001b[39m\u001b[38;5;241m>\u001b[39m Tuple[OutT, Callable]:\n\u001b[1;32m    308\u001b[0m \u001b[38;5;250m    \u001b[39m\u001b[38;5;124;03m\"\"\"Call the model's `forward` function, returning the output and a\u001b[39;00m\n\u001b[1;32m    309\u001b[0m \u001b[38;5;124;03m    callback to compute the gradients via backpropagation.\"\"\"\u001b[39;00m\n\u001b[0;32m--> 310\u001b[0m     \u001b[38;5;28;01mreturn\u001b[39;00m \u001b[38;5;28mself\u001b[39m\u001b[38;5;241m.\u001b[39m_func(\u001b[38;5;28mself\u001b[39m, X, is_train\u001b[38;5;241m=\u001b[39mis_train)\n",
      "File \u001b[0;32m/opt/anaconda3/lib/python3.12/site-packages/thinc/layers/chain.py:54\u001b[0m, in \u001b[0;36mforward\u001b[0;34m(model, X, is_train)\u001b[0m\n\u001b[1;32m     52\u001b[0m callbacks \u001b[38;5;241m=\u001b[39m []\n\u001b[1;32m     53\u001b[0m \u001b[38;5;28;01mfor\u001b[39;00m layer \u001b[38;5;129;01min\u001b[39;00m model\u001b[38;5;241m.\u001b[39mlayers:\n\u001b[0;32m---> 54\u001b[0m     Y, inc_layer_grad \u001b[38;5;241m=\u001b[39m layer(X, is_train\u001b[38;5;241m=\u001b[39mis_train)\n\u001b[1;32m     55\u001b[0m     callbacks\u001b[38;5;241m.\u001b[39mappend(inc_layer_grad)\n\u001b[1;32m     56\u001b[0m     X \u001b[38;5;241m=\u001b[39m Y\n",
      "File \u001b[0;32m/opt/anaconda3/lib/python3.12/site-packages/thinc/model.py:310\u001b[0m, in \u001b[0;36mModel.__call__\u001b[0;34m(self, X, is_train)\u001b[0m\n\u001b[1;32m    307\u001b[0m \u001b[38;5;28;01mdef\u001b[39;00m \u001b[38;5;21m__call__\u001b[39m(\u001b[38;5;28mself\u001b[39m, X: InT, is_train: \u001b[38;5;28mbool\u001b[39m) \u001b[38;5;241m-\u001b[39m\u001b[38;5;241m>\u001b[39m Tuple[OutT, Callable]:\n\u001b[1;32m    308\u001b[0m \u001b[38;5;250m    \u001b[39m\u001b[38;5;124;03m\"\"\"Call the model's `forward` function, returning the output and a\u001b[39;00m\n\u001b[1;32m    309\u001b[0m \u001b[38;5;124;03m    callback to compute the gradients via backpropagation.\"\"\"\u001b[39;00m\n\u001b[0;32m--> 310\u001b[0m     \u001b[38;5;28;01mreturn\u001b[39;00m \u001b[38;5;28mself\u001b[39m\u001b[38;5;241m.\u001b[39m_func(\u001b[38;5;28mself\u001b[39m, X, is_train\u001b[38;5;241m=\u001b[39mis_train)\n",
      "File \u001b[0;32m/opt/anaconda3/lib/python3.12/site-packages/thinc/layers/residual.py:41\u001b[0m, in \u001b[0;36mforward\u001b[0;34m(model, X, is_train)\u001b[0m\n\u001b[1;32m     38\u001b[0m     \u001b[38;5;28;01melse\u001b[39;00m:\n\u001b[1;32m     39\u001b[0m         \u001b[38;5;28;01mreturn\u001b[39;00m d_output \u001b[38;5;241m+\u001b[39m dX\n\u001b[0;32m---> 41\u001b[0m Y, backprop_layer \u001b[38;5;241m=\u001b[39m model\u001b[38;5;241m.\u001b[39mlayers[\u001b[38;5;241m0\u001b[39m](X, is_train)\n\u001b[1;32m     42\u001b[0m \u001b[38;5;28;01mif\u001b[39;00m \u001b[38;5;28misinstance\u001b[39m(X, \u001b[38;5;28mlist\u001b[39m):\n\u001b[1;32m     43\u001b[0m     \u001b[38;5;28;01mreturn\u001b[39;00m [X[i] \u001b[38;5;241m+\u001b[39m Y[i] \u001b[38;5;28;01mfor\u001b[39;00m i \u001b[38;5;129;01min\u001b[39;00m \u001b[38;5;28mrange\u001b[39m(\u001b[38;5;28mlen\u001b[39m(X))], backprop\n",
      "File \u001b[0;32m/opt/anaconda3/lib/python3.12/site-packages/thinc/model.py:310\u001b[0m, in \u001b[0;36mModel.__call__\u001b[0;34m(self, X, is_train)\u001b[0m\n\u001b[1;32m    307\u001b[0m \u001b[38;5;28;01mdef\u001b[39;00m \u001b[38;5;21m__call__\u001b[39m(\u001b[38;5;28mself\u001b[39m, X: InT, is_train: \u001b[38;5;28mbool\u001b[39m) \u001b[38;5;241m-\u001b[39m\u001b[38;5;241m>\u001b[39m Tuple[OutT, Callable]:\n\u001b[1;32m    308\u001b[0m \u001b[38;5;250m    \u001b[39m\u001b[38;5;124;03m\"\"\"Call the model's `forward` function, returning the output and a\u001b[39;00m\n\u001b[1;32m    309\u001b[0m \u001b[38;5;124;03m    callback to compute the gradients via backpropagation.\"\"\"\u001b[39;00m\n\u001b[0;32m--> 310\u001b[0m     \u001b[38;5;28;01mreturn\u001b[39;00m \u001b[38;5;28mself\u001b[39m\u001b[38;5;241m.\u001b[39m_func(\u001b[38;5;28mself\u001b[39m, X, is_train\u001b[38;5;241m=\u001b[39mis_train)\n",
      "File \u001b[0;32m/opt/anaconda3/lib/python3.12/site-packages/thinc/layers/chain.py:54\u001b[0m, in \u001b[0;36mforward\u001b[0;34m(model, X, is_train)\u001b[0m\n\u001b[1;32m     52\u001b[0m callbacks \u001b[38;5;241m=\u001b[39m []\n\u001b[1;32m     53\u001b[0m \u001b[38;5;28;01mfor\u001b[39;00m layer \u001b[38;5;129;01min\u001b[39;00m model\u001b[38;5;241m.\u001b[39mlayers:\n\u001b[0;32m---> 54\u001b[0m     Y, inc_layer_grad \u001b[38;5;241m=\u001b[39m layer(X, is_train\u001b[38;5;241m=\u001b[39mis_train)\n\u001b[1;32m     55\u001b[0m     callbacks\u001b[38;5;241m.\u001b[39mappend(inc_layer_grad)\n\u001b[1;32m     56\u001b[0m     X \u001b[38;5;241m=\u001b[39m Y\n",
      "File \u001b[0;32m/opt/anaconda3/lib/python3.12/site-packages/thinc/model.py:310\u001b[0m, in \u001b[0;36mModel.__call__\u001b[0;34m(self, X, is_train)\u001b[0m\n\u001b[1;32m    307\u001b[0m \u001b[38;5;28;01mdef\u001b[39;00m \u001b[38;5;21m__call__\u001b[39m(\u001b[38;5;28mself\u001b[39m, X: InT, is_train: \u001b[38;5;28mbool\u001b[39m) \u001b[38;5;241m-\u001b[39m\u001b[38;5;241m>\u001b[39m Tuple[OutT, Callable]:\n\u001b[1;32m    308\u001b[0m \u001b[38;5;250m    \u001b[39m\u001b[38;5;124;03m\"\"\"Call the model's `forward` function, returning the output and a\u001b[39;00m\n\u001b[1;32m    309\u001b[0m \u001b[38;5;124;03m    callback to compute the gradients via backpropagation.\"\"\"\u001b[39;00m\n\u001b[0;32m--> 310\u001b[0m     \u001b[38;5;28;01mreturn\u001b[39;00m \u001b[38;5;28mself\u001b[39m\u001b[38;5;241m.\u001b[39m_func(\u001b[38;5;28mself\u001b[39m, X, is_train\u001b[38;5;241m=\u001b[39mis_train)\n",
      "File \u001b[0;32m/opt/anaconda3/lib/python3.12/site-packages/thinc/layers/chain.py:54\u001b[0m, in \u001b[0;36mforward\u001b[0;34m(model, X, is_train)\u001b[0m\n\u001b[1;32m     52\u001b[0m callbacks \u001b[38;5;241m=\u001b[39m []\n\u001b[1;32m     53\u001b[0m \u001b[38;5;28;01mfor\u001b[39;00m layer \u001b[38;5;129;01min\u001b[39;00m model\u001b[38;5;241m.\u001b[39mlayers:\n\u001b[0;32m---> 54\u001b[0m     Y, inc_layer_grad \u001b[38;5;241m=\u001b[39m layer(X, is_train\u001b[38;5;241m=\u001b[39mis_train)\n\u001b[1;32m     55\u001b[0m     callbacks\u001b[38;5;241m.\u001b[39mappend(inc_layer_grad)\n\u001b[1;32m     56\u001b[0m     X \u001b[38;5;241m=\u001b[39m Y\n",
      "    \u001b[0;31m[... skipping similar frames: Model.__call__ at line 310 (1 times)]\u001b[0m\n",
      "File \u001b[0;32m/opt/anaconda3/lib/python3.12/site-packages/thinc/layers/chain.py:54\u001b[0m, in \u001b[0;36mforward\u001b[0;34m(model, X, is_train)\u001b[0m\n\u001b[1;32m     52\u001b[0m callbacks \u001b[38;5;241m=\u001b[39m []\n\u001b[1;32m     53\u001b[0m \u001b[38;5;28;01mfor\u001b[39;00m layer \u001b[38;5;129;01min\u001b[39;00m model\u001b[38;5;241m.\u001b[39mlayers:\n\u001b[0;32m---> 54\u001b[0m     Y, inc_layer_grad \u001b[38;5;241m=\u001b[39m layer(X, is_train\u001b[38;5;241m=\u001b[39mis_train)\n\u001b[1;32m     55\u001b[0m     callbacks\u001b[38;5;241m.\u001b[39mappend(inc_layer_grad)\n\u001b[1;32m     56\u001b[0m     X \u001b[38;5;241m=\u001b[39m Y\n",
      "File \u001b[0;32m/opt/anaconda3/lib/python3.12/site-packages/thinc/model.py:310\u001b[0m, in \u001b[0;36mModel.__call__\u001b[0;34m(self, X, is_train)\u001b[0m\n\u001b[1;32m    307\u001b[0m \u001b[38;5;28;01mdef\u001b[39;00m \u001b[38;5;21m__call__\u001b[39m(\u001b[38;5;28mself\u001b[39m, X: InT, is_train: \u001b[38;5;28mbool\u001b[39m) \u001b[38;5;241m-\u001b[39m\u001b[38;5;241m>\u001b[39m Tuple[OutT, Callable]:\n\u001b[1;32m    308\u001b[0m \u001b[38;5;250m    \u001b[39m\u001b[38;5;124;03m\"\"\"Call the model's `forward` function, returning the output and a\u001b[39;00m\n\u001b[1;32m    309\u001b[0m \u001b[38;5;124;03m    callback to compute the gradients via backpropagation.\"\"\"\u001b[39;00m\n\u001b[0;32m--> 310\u001b[0m     \u001b[38;5;28;01mreturn\u001b[39;00m \u001b[38;5;28mself\u001b[39m\u001b[38;5;241m.\u001b[39m_func(\u001b[38;5;28mself\u001b[39m, X, is_train\u001b[38;5;241m=\u001b[39mis_train)\n",
      "File \u001b[0;32m/opt/anaconda3/lib/python3.12/site-packages/thinc/layers/maxout.py:52\u001b[0m, in \u001b[0;36mforward\u001b[0;34m(model, X, is_train)\u001b[0m\n\u001b[1;32m     50\u001b[0m W \u001b[38;5;241m=\u001b[39m model\u001b[38;5;241m.\u001b[39mget_param(\u001b[38;5;124m\"\u001b[39m\u001b[38;5;124mW\u001b[39m\u001b[38;5;124m\"\u001b[39m)\n\u001b[1;32m     51\u001b[0m W \u001b[38;5;241m=\u001b[39m model\u001b[38;5;241m.\u001b[39mops\u001b[38;5;241m.\u001b[39mreshape2f(W, nO \u001b[38;5;241m*\u001b[39m nP, nI)\n\u001b[0;32m---> 52\u001b[0m Y \u001b[38;5;241m=\u001b[39m model\u001b[38;5;241m.\u001b[39mops\u001b[38;5;241m.\u001b[39mgemm(X, W, trans2\u001b[38;5;241m=\u001b[39m\u001b[38;5;28;01mTrue\u001b[39;00m)\n\u001b[1;32m     53\u001b[0m Y \u001b[38;5;241m+\u001b[39m\u001b[38;5;241m=\u001b[39m model\u001b[38;5;241m.\u001b[39mops\u001b[38;5;241m.\u001b[39mreshape1f(b, nO \u001b[38;5;241m*\u001b[39m nP)\n\u001b[1;32m     54\u001b[0m Z \u001b[38;5;241m=\u001b[39m model\u001b[38;5;241m.\u001b[39mops\u001b[38;5;241m.\u001b[39mreshape3f(Y, Y\u001b[38;5;241m.\u001b[39mshape[\u001b[38;5;241m0\u001b[39m], nO, nP)\n",
      "\u001b[0;31mKeyboardInterrupt\u001b[0m: "
     ]
    }
   ],
   "source": [
    "# Identifying important entities\n",
    "# Output: entities_catalog -> dict()\n",
    "recognition = spacy.load(\"en_core_web_sm\")\n",
    "\n",
    "entities_catalog = {}\n",
    "for i in range(clean_texts_num):\n",
    "    print(f'\\r[*] Progress: {round(round((i + 1)/clean_texts_num, 3)*100, 2)}%', end='')\n",
    "    doc = recognition(clean_texts[i])\n",
    "    for ent in doc.ents:\n",
    "        entities_catalog.setdefault(ent.label_, [])\n",
    "        entities_catalog[ent.label_].append(ent.text)\n",
    "\n",
    "entities_catalog_num = len(entities_catalog.keys())\n",
    "print('\\n[*] Done.')\n",
    "print(f'[*] Quick view(total {entities_catalog_num}):')\n",
    "for i in range(10):\n",
    "    curr_k = entities_catalog.keys()[i]\n",
    "    print(f'\\t{i + 1}.{curr_k} - {entities_catalog[curr_k][1:10]}')\n",
    "\n",
    "fo_path = os.path.join(os.path.dirname(fi), 'entities_catalog.csv')\n",
    "print(f'[*] Generating entities_catalog.csv...')\n",
    "entities_catalog_df = pd.DataFrame({'entity name': entities_catalog.keys(), 'entity contents': entities_catalog.values()})\n",
    "entities_catalog_df.to_csv(fo_path, index=False)"
   ]
  },
  {
   "cell_type": "markdown",
   "metadata": {},
   "source": [
    "## 2. Token"
   ]
  },
  {
   "cell_type": "markdown",
   "metadata": {},
   "source": [
    "### 2.1. Tokenization"
   ]
  },
  {
   "cell_type": "code",
   "execution_count": 8,
   "metadata": {},
   "outputs": [
    {
     "name": "stdout",
     "output_type": "stream",
     "text": [
      "[*] Progress: 100.0%\n",
      "[*] Done.\n",
      "[*] Quick view(total 160398):\n",
      "\t1.['side', 'effect', 'take', 'combination', 'bystolic', '5', 'mg', 'fish', 'oil']\n",
      "\t2.['son', 'halfway', 'fourth', 'week', 'intuniv', 'became', 'concerned', 'began', 'last', 'week', 'started', 'taking', 'highest', 'dose', 'two', 'days', 'could', 'hardly', 'get', 'bed', 'cranky', 'slept', 'nearly', '8', 'hours', 'drive', 'home', 'school', 'vacation', 'unusual', 'called', 'doctor', 'monday', 'morning', 'said', 'stick', 'days', 'see', 'school', 'getting', 'morning', 'last', 'two', 'days', 'problem', 'free', 'much', 'agreeable', 'ever', 'less', 'emotional', 'good', 'thing', 'less', 'cranky', 'remembering', 'things', 'overall', 'behavior', 'better', 'we', 'tried', 'many', 'different', 'medications', 'far', 'effective']\n",
      "\t3.['used', 'take', 'another', 'oral', 'contraceptive', '21', 'pill', 'cycle', 'happy', 'light', 'periods', 'max', '5', 'days', 'side', 'effects', 'contained', 'hormone', 'gestodene', 'available', 'us', 'switched', 'lybrel', 'ingredients', 'similar', 'pills', 'ended', 'started', 'lybrel', 'immediately', 'first', 'day', 'period', 'instructions', 'said', 'period', 'lasted', 'two', 'weeks', 'taking', 'second', 'pack', 'two', 'weeks', 'third', 'pack', 'things', 'got', 'even', 'worse', 'third', 'period', 'lasted', 'two', 'weeks', '039', 'end', 'third', 'week', 'still', 'daily', 'brown', 'discharge', 'the', 'positive', 'side', '039', 'side', 'effects', 'idea', 'period', 'free', 'tempting', 'alas']\n",
      "\t4.['first', 'time', 'using', 'form', 'birth', 'control', '039', 'glad', 'went', 'patch', '8', 'months', 'first', 'decreased', 'libido', 'subsided', 'downside', 'made', 'periods', 'longer', '5', '6', 'days', 'exact', 'used', 'periods', '3', '4', 'days', 'max', 'also', 'made', 'cramps', 'intense', 'first', 'two', 'days', 'period', 'never', 'cramps', 'using', 'birth', 'control', 'happy', 'patch']\n",
      "\t5.['suboxone', 'completely', 'turned', 'life', 'around', 'feel', 'healthier', '039', 'excelling', 'job', 'always', 'money', 'pocket', 'savings', 'account', 'none', 'suboxone', 'spent', 'years', 'abusing', 'oxycontin', 'paycheck', 'already', 'spent', 'time', 'got', 'started', 'resorting', 'scheming', 'stealing', 'fund', 'addiction', 'history', '039', 'ready', 'stop', '039', 'good', 'chance', 'suboxone', 'put', 'path', 'great', 'life', 'found', 'side', 'effects', 'minimal', 'compared', 'oxycontin', '039', 'actually', 'sleeping', 'better', 'slight', 'constipation', 'truly', 'amazing', 'cost', 'pales', 'comparison', 'spent', 'oxycontin']\n",
      "\t6.['2nd', 'day', '5mg', 'started', 'work', 'rock', 'hard', 'erections', 'however', 'experianced', 'headache', 'lower', 'bowel', 'preassure', '3rd', 'day', 'erections', 'would', 'wake', 'amp', 'hurt', 'leg', 'ankles', 'aches', 'severe', 'lower', 'bowel', 'preassure', 'like', 'need', 'go', '2', '039', 'enjoyed', 'initial', 'rockhard', 'erections', 'side', 'effects', '230', 'months', 'supply', '039', '50', 'amp', 'work', '3xs', 'week', 'worth', 'side', 'effects']\n",
      "\t7.['pulled', 'cummed', 'bit', 'took', 'plan', 'b', '26', 'hours', 'later', 'took', 'pregnancy', 'test', 'two', 'weeks', 'later', '039', 'pregnant']\n",
      "\t8.['abilify', 'changed', 'life', 'hope', 'zoloft', 'clonidine', 'first', 'started', 'abilify', 'age', '15', 'zoloft', 'depression', 'clondine', 'manage', 'complete', 'rage', 'moods', 'control', 'depressed', 'hopeless', 'one', 'second', 'mean', 'irrational', 'full', 'rage', 'next', 'dr', 'prescribed', '2mg', 'abilify', 'point', 'feel', 'like', 'cured', 'though', 'know', '039', 'bi', 'polar', 'disorder', 'constant', 'battle', 'know', 'abilify', 'works', 'tried', 'get', 'lost', 'complete', 'control', 'emotions', 'went', 'back', 'golden', '5mg', '2x', 'daily', '21', 'better', 'ever', 'past', 'side', 'effect', 'like', 'eat', 'lot']\n",
      "\t9.['nothing', 'problems', 'keppera', 'constant', 'shaking', 'arms', 'amp', 'legs', 'amp', 'pins', 'amp', 'needles', 'feeling', 'arms', 'amp', 'legs', 'severe', 'light', 'headedness', 'appetite', 'amp', 'etc']\n",
      "\t10.['pill', 'many', 'years', 'doctor', 'changed', 'rx', 'chateal', 'effective', 'really', 'help', 'completely', 'clearing', 'acne', 'takes', '6', 'months', 'though', 'gain', 'extra', 'weight', 'develop', 'emotional', 'health', 'issues', 'stopped', 'taking', 'bc', 'started', 'using', 'natural', 'method', 'birth', 'control', 'started', 'take', 'bc', 'hate', 'acne', 'came', 'back', 'age', '28', 'really', 'hope', 'symptoms', 'like', 'depression', 'weight', 'gain', 'begin', 'affect', 'older', '039', 'also', 'naturally', 'moody', 'may', 'worsen', 'things', 'negative', 'mental', 'rut', 'today', 'also', 'hope', '039', 'push', 'edge', 'believe', 'depressed', 'hopefully', '039', 'like', 'younger']\n"
     ]
    }
   ],
   "source": [
    "# Tokenize data\n",
    "# Output: tokens -> list()\n",
    "tokens = []\n",
    "\n",
    "for i in range(clean_texts_num):\n",
    "    print(f'\\r[*] Progress: {round(round((i + 1)/clean_texts_num, 3)*100, 2)}%', end='')\n",
    "    token_wd = word_tokenize(clean_texts[i])\n",
    "    tokens.append(token_wd)\n",
    "\n",
    "tokens_num = len(tokens)\n",
    "print('\\n[*] Done.')\n",
    "print(f'[*] Quick view(total {tokens_num}):')\n",
    "for i in range(10):\n",
    "    print(f'\\t{i + 1}.{tokens[i]}')"
   ]
  },
  {
   "cell_type": "markdown",
   "metadata": {},
   "source": [
    "### 2.2. Normalization"
   ]
  },
  {
   "cell_type": "code",
   "execution_count": 9,
   "metadata": {},
   "outputs": [
    {
     "name": "stdout",
     "output_type": "stream",
     "text": [
      "[*] Progress: 100.0%\n",
      "[*] Done.\n",
      "[*] Quick view(total 160398):\n",
      "\t1.['side', 'effect', 'take', 'combin', 'bystol', '5', 'mg', 'fish', 'oil']\n",
      "\t2.['son', 'halfway', 'fourth', 'week', 'intuniv', 'becam', 'concern', 'began', 'last', 'week', 'start', 'take', 'highest', 'dose', 'two', 'day', 'could', 'hardli', 'get', 'bed', 'cranki', 'slept', 'nearli', '8', 'hour', 'drive', 'home', 'school', 'vacat', 'unusu', 'call', 'doctor', 'monday', 'morn', 'said', 'stick', 'day', 'see', 'school', 'get', 'morn', 'last', 'two', 'day', 'problem', 'free', 'much', 'agreeabl', 'ever', 'less', 'emot', 'good', 'thing', 'less', 'cranki', 'rememb', 'thing', 'overal', 'behavior', 'better', 'we', 'tri', 'mani', 'differ', 'medic', 'far', 'effect']\n",
      "\t3.['use', 'take', 'anoth', 'oral', 'contracept', '21', 'pill', 'cycl', 'happi', 'light', 'period', 'max', '5', 'day', 'side', 'effect', 'contain', 'hormon', 'gestoden', 'avail', 'us', 'switch', 'lybrel', 'ingredi', 'similar', 'pill', 'end', 'start', 'lybrel', 'immedi', 'first', 'day', 'period', 'instruct', 'said', 'period', 'last', 'two', 'week', 'take', 'second', 'pack', 'two', 'week', 'third', 'pack', 'thing', 'got', 'even', 'wors', 'third', 'period', 'last', 'two', 'week', '039', 'end', 'third', 'week', 'still', 'daili', 'brown', 'discharg', 'the', 'posit', 'side', '039', 'side', 'effect', 'idea', 'period', 'free', 'tempt', 'ala']\n",
      "\t4.['first', 'time', 'use', 'form', 'birth', 'control', '039', 'glad', 'went', 'patch', '8', 'month', 'first', 'decreas', 'libido', 'subsid', 'downsid', 'made', 'period', 'longer', '5', '6', 'day', 'exact', 'use', 'period', '3', '4', 'day', 'max', 'also', 'made', 'cramp', 'intens', 'first', 'two', 'day', 'period', 'never', 'cramp', 'use', 'birth', 'control', 'happi', 'patch']\n",
      "\t5.['suboxon', 'complet', 'turn', 'life', 'around', 'feel', 'healthier', '039', 'excel', 'job', 'alway', 'money', 'pocket', 'save', 'account', 'none', 'suboxon', 'spent', 'year', 'abus', 'oxycontin', 'paycheck', 'alreadi', 'spent', 'time', 'got', 'start', 'resort', 'scheme', 'steal', 'fund', 'addict', 'histori', '039', 'readi', 'stop', '039', 'good', 'chanc', 'suboxon', 'put', 'path', 'great', 'life', 'found', 'side', 'effect', 'minim', 'compar', 'oxycontin', '039', 'actual', 'sleep', 'better', 'slight', 'constip', 'truli', 'amaz', 'cost', 'pale', 'comparison', 'spent', 'oxycontin']\n",
      "\t6.['2nd', 'day', '5mg', 'start', 'work', 'rock', 'hard', 'erect', 'howev', 'experianc', 'headach', 'lower', 'bowel', 'preassur', '3rd', 'day', 'erect', 'would', 'wake', 'amp', 'hurt', 'leg', 'ankl', 'ach', 'sever', 'lower', 'bowel', 'preassur', 'like', 'need', 'go', '2', '039', 'enjoy', 'initi', 'rockhard', 'erect', 'side', 'effect', '230', 'month', 'suppli', '039', '50', 'amp', 'work', '3x', 'week', 'worth', 'side', 'effect']\n",
      "\t7.['pull', 'cum', 'bit', 'took', 'plan', 'b', '26', 'hour', 'later', 'took', 'pregnanc', 'test', 'two', 'week', 'later', '039', 'pregnant']\n",
      "\t8.['abilifi', 'chang', 'life', 'hope', 'zoloft', 'clonidin', 'first', 'start', 'abilifi', 'age', '15', 'zoloft', 'depress', 'clondin', 'manag', 'complet', 'rage', 'mood', 'control', 'depress', 'hopeless', 'one', 'second', 'mean', 'irrat', 'full', 'rage', 'next', 'dr', 'prescrib', '2mg', 'abilifi', 'point', 'feel', 'like', 'cure', 'though', 'know', '039', 'bi', 'polar', 'disord', 'constant', 'battl', 'know', 'abilifi', 'work', 'tri', 'get', 'lost', 'complet', 'control', 'emot', 'went', 'back', 'golden', '5mg', '2x', 'daili', '21', 'better', 'ever', 'past', 'side', 'effect', 'like', 'eat', 'lot']\n",
      "\t9.['noth', 'problem', 'keppera', 'constant', 'shake', 'arm', 'amp', 'leg', 'amp', 'pin', 'amp', 'needl', 'feel', 'arm', 'amp', 'leg', 'sever', 'light', 'headed', 'appetit', 'amp', 'etc']\n",
      "\t10.['pill', 'mani', 'year', 'doctor', 'chang', 'rx', 'chateal', 'effect', 'realli', 'help', 'complet', 'clear', 'acn', 'take', '6', 'month', 'though', 'gain', 'extra', 'weight', 'develop', 'emot', 'health', 'issu', 'stop', 'take', 'bc', 'start', 'use', 'natur', 'method', 'birth', 'control', 'start', 'take', 'bc', 'hate', 'acn', 'came', 'back', 'age', '28', 'realli', 'hope', 'symptom', 'like', 'depress', 'weight', 'gain', 'begin', 'affect', 'older', '039', 'also', 'natur', 'moodi', 'may', 'worsen', 'thing', 'neg', 'mental', 'rut', 'today', 'also', 'hope', '039', 'push', 'edg', 'believ', 'depress', 'hope', '039', 'like', 'younger']\n"
     ]
    }
   ],
   "source": [
    "# Normalization with nltk\n",
    "# Output: tokens -> list()\n",
    "stemmer = PorterStemmer()\n",
    "\n",
    "tmp = []\n",
    "for i in range(tokens_num):\n",
    "    print(f'\\r[*] Progress: {round(round((i + 1)/tokens_num, 3)*100, 2)}%', end='')\n",
    "    lemmatized_token = [stemmer.stem(wd) for wd in tokens[i]]\n",
    "    tmp.append(lemmatized_token)\n",
    "\n",
    "lemmatized_tokens = tmp[:]\n",
    "tmp = []\n",
    "\n",
    "tokens_num = len(lemmatized_tokens)\n",
    "print('\\n[*] Done.')\n",
    "quick_view(lemmatized_tokens, tokens_num)"
   ]
  },
  {
   "cell_type": "markdown",
   "metadata": {},
   "source": [
    "### 2.3. Token Filtering"
   ]
  },
  {
   "cell_type": "code",
   "execution_count": 10,
   "metadata": {},
   "outputs": [
    {
     "name": "stdout",
     "output_type": "stream",
     "text": [
      "[*] Progress: 100.0%\n",
      "[*] Done.\n",
      "[*] Quick view(total 160398):\n",
      "\t1.['side', 'effect', 'take', 'combin', 'bystol', 'mg', 'fish', 'oil']\n",
      "\t2.['son', 'halfway', 'fourth', 'week', 'intuniv', 'becam', 'concern', 'began', 'last', 'week', 'start', 'take', 'highest', 'dose', 'two', 'day', 'could', 'hardli', 'get', 'bed', 'cranki', 'slept', 'nearli', 'hour', 'drive', 'home', 'school', 'vacat', 'unusu', 'call', 'doctor', 'monday', 'morn', 'said', 'stick', 'day', 'see', 'school', 'get', 'morn', 'last', 'two', 'day', 'problem', 'free', 'much', 'agreeabl', 'ever', 'less', 'emot', 'good', 'thing', 'less', 'cranki', 'rememb', 'thing', 'overal', 'behavior', 'better', 'we', 'tri', 'mani', 'differ', 'medic', 'far', 'effect']\n",
      "\t3.['use', 'take', 'anoth', 'oral', 'contracept', 'pill', 'cycl', 'happi', 'light', 'period', 'max', 'day', 'side', 'effect', 'contain', 'hormon', 'gestoden', 'avail', 'us', 'switch', 'lybrel', 'ingredi', 'similar', 'pill', 'end', 'start', 'lybrel', 'immedi', 'first', 'day', 'period', 'instruct', 'said', 'period', 'last', 'two', 'week', 'take', 'second', 'pack', 'two', 'week', 'third', 'pack', 'thing', 'got', 'even', 'wors', 'third', 'period', 'last', 'two', 'week', 'end', 'third', 'week', 'still', 'daili', 'brown', 'discharg', 'the', 'posit', 'side', 'side', 'effect', 'idea', 'period', 'free', 'tempt', 'ala']\n",
      "\t4.['first', 'time', 'use', 'form', 'birth', 'control', 'glad', 'went', 'patch', 'month', 'first', 'decreas', 'libido', 'subsid', 'downsid', 'made', 'period', 'longer', 'day', 'exact', 'use', 'period', 'day', 'max', 'also', 'made', 'cramp', 'intens', 'first', 'two', 'day', 'period', 'never', 'cramp', 'use', 'birth', 'control', 'happi', 'patch']\n",
      "\t5.['suboxon', 'complet', 'turn', 'life', 'around', 'feel', 'healthier', 'excel', 'job', 'alway', 'money', 'pocket', 'save', 'account', 'none', 'suboxon', 'spent', 'year', 'abus', 'oxycontin', 'paycheck', 'alreadi', 'spent', 'time', 'got', 'start', 'resort', 'scheme', 'steal', 'fund', 'addict', 'histori', 'readi', 'stop', 'good', 'chanc', 'suboxon', 'put', 'path', 'great', 'life', 'found', 'side', 'effect', 'minim', 'compar', 'oxycontin', 'actual', 'sleep', 'better', 'slight', 'constip', 'truli', 'amaz', 'cost', 'pale', 'comparison', 'spent', 'oxycontin']\n",
      "\t6.['day', 'start', 'work', 'rock', 'hard', 'erect', 'howev', 'experianc', 'headach', 'lower', 'bowel', 'preassur', 'day', 'erect', 'would', 'wake', 'amp', 'hurt', 'leg', 'ankl', 'ach', 'sever', 'lower', 'bowel', 'preassur', 'like', 'need', 'go', 'enjoy', 'initi', 'rockhard', 'erect', 'side', 'effect', 'month', 'suppli', 'amp', 'work', 'week', 'worth', 'side', 'effect']\n",
      "\t7.['pull', 'cum', 'bit', 'took', 'plan', 'b', 'hour', 'later', 'took', 'pregnanc', 'test', 'two', 'week', 'later', 'pregnant']\n",
      "\t8.['abilifi', 'chang', 'life', 'hope', 'zoloft', 'clonidin', 'first', 'start', 'abilifi', 'age', 'zoloft', 'depress', 'clondin', 'manag', 'complet', 'rage', 'mood', 'control', 'depress', 'hopeless', 'one', 'second', 'mean', 'irrat', 'full', 'rage', 'next', 'dr', 'prescrib', 'abilifi', 'point', 'feel', 'like', 'cure', 'though', 'know', 'bi', 'polar', 'disord', 'constant', 'battl', 'know', 'abilifi', 'work', 'tri', 'get', 'lost', 'complet', 'control', 'emot', 'went', 'back', 'golden', 'daili', 'better', 'ever', 'past', 'side', 'effect', 'like', 'eat', 'lot']\n",
      "\t9.['noth', 'problem', 'keppera', 'constant', 'shake', 'arm', 'amp', 'leg', 'amp', 'pin', 'amp', 'needl', 'feel', 'arm', 'amp', 'leg', 'sever', 'light', 'headed', 'appetit', 'amp', 'etc']\n",
      "\t10.['pill', 'mani', 'year', 'doctor', 'chang', 'rx', 'chateal', 'effect', 'realli', 'help', 'complet', 'clear', 'acn', 'take', 'month', 'though', 'gain', 'extra', 'weight', 'develop', 'emot', 'health', 'issu', 'stop', 'take', 'bc', 'start', 'use', 'natur', 'method', 'birth', 'control', 'start', 'take', 'bc', 'hate', 'acn', 'came', 'back', 'age', 'realli', 'hope', 'symptom', 'like', 'depress', 'weight', 'gain', 'begin', 'affect', 'older', 'also', 'natur', 'moodi', 'may', 'worsen', 'thing', 'neg', 'mental', 'rut', 'today', 'also', 'hope', 'push', 'edg', 'believ', 'depress', 'hope', 'like', 'younger']\n"
     ]
    }
   ],
   "source": [
    "# Filter all non-alphabetic word\n",
    "# Output: alpha_tokens -> list()\n",
    "alpha_tokens = []\n",
    "for i in range(tokens_num):\n",
    "    print(f'\\r[*] Progress: {round(round((i + 1)/tokens_num, 3)*100, 2)}%', end='')\n",
    "    alpha_tokens.append([wd for wd in lemmatized_tokens[i] if wd.isalpha()])\n",
    "\n",
    "tokens_num = len(alpha_tokens)\n",
    "print('\\n[*] Done.')\n",
    "quick_view(alpha_tokens, tokens_num)"
   ]
  },
  {
   "cell_type": "markdown",
   "metadata": {},
   "source": [
    "## Output"
   ]
  },
  {
   "cell_type": "code",
   "execution_count": 11,
   "metadata": {},
   "outputs": [],
   "source": [
    "# New data\n",
    "# clean_texts -> list()\n",
    "# tokens -> list()\n",
    "# alpha_tokens -> list()\n",
    "\n",
    "df.insert(df.shape[1], 'clean_texts', clean_texts, allow_duplicates=True)\n",
    "df.insert(df.shape[1], 'tokens', tokens, allow_duplicates=True)\n",
    "df.insert(df.shape[1], 'alpha_tokens', alpha_tokens, allow_duplicates=True)\n",
    "\n",
    "fo_path = os.path.join(os.path.dirname(fi), f'preprocessed_{os.path.basename(fi)}')\n",
    "df.to_csv(fo_path, index=False)"
   ]
  }
 ],
 "metadata": {
  "kernelspec": {
   "display_name": "base",
   "language": "python",
   "name": "python3"
  },
  "language_info": {
   "codemirror_mode": {
    "name": "ipython",
    "version": 3
   },
   "file_extension": ".py",
   "mimetype": "text/x-python",
   "name": "python",
   "nbconvert_exporter": "python",
   "pygments_lexer": "ipython3",
   "version": "3.12.3"
  }
 },
 "nbformat": 4,
 "nbformat_minor": 2
}
